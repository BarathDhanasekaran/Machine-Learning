{
 "cells": [
  {
   "cell_type": "code",
   "execution_count": 1,
   "id": "3b4d8717-97ed-413f-88a1-df46623a1f6d",
   "metadata": {},
   "outputs": [],
   "source": [
    "# we need to deploy saved model for End user\n",
    "import pickle"
   ]
  },
  {
   "cell_type": "code",
   "execution_count": 2,
   "id": "a126d7af-ed14-4f9a-ad09-ef4505d37497",
   "metadata": {},
   "outputs": [
    {
     "name": "stderr",
     "output_type": "stream",
     "text": [
      "C:\\Users\\ADMIN\\anaconda3\\Lib\\site-packages\\sklearn\\base.py:493: UserWarning: X does not have valid feature names, but LinearRegression was fitted with feature names\n",
      "  warnings.warn(\n"
     ]
    }
   ],
   "source": [
    "# Don't do Training & Testing activities in this section only for model deployment\n",
    "loaded_model=pickle.load(open(\"finalzed_model_mult_linear.sav\",'rb'))\n",
    "result=loaded_model.predict([[34678,345,543767,False,True,False]])"
   ]
  },
  {
   "cell_type": "code",
   "execution_count": 3,
   "id": "cc234165-068c-4eae-a77d-7d5fb0df37f7",
   "metadata": {},
   "outputs": [
    {
     "data": {
      "text/plain": [
       "array([[87166.93166624]])"
      ]
     },
     "execution_count": 3,
     "metadata": {},
     "output_type": "execute_result"
    }
   ],
   "source": [
    "result"
   ]
  },
  {
   "cell_type": "code",
   "execution_count": null,
   "id": "344edc3d-4934-4cae-bee1-0d3c342fe699",
   "metadata": {},
   "outputs": [],
   "source": []
  }
 ],
 "metadata": {
  "kernelspec": {
   "display_name": "Python 3 (ipykernel)",
   "language": "python",
   "name": "python3"
  },
  "language_info": {
   "codemirror_mode": {
    "name": "ipython",
    "version": 3
   },
   "file_extension": ".py",
   "mimetype": "text/x-python",
   "name": "python",
   "nbconvert_exporter": "python",
   "pygments_lexer": "ipython3",
   "version": "3.12.7"
  }
 },
 "nbformat": 4,
 "nbformat_minor": 5
}
